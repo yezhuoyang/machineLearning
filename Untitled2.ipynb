{
 "cells": [
  {
   "cell_type": "code",
   "execution_count": 41,
   "metadata": {},
   "outputs": [],
   "source": [
    "\n",
    "SEED=1\n",
    "data1_path='/Users/yezhuoyang/Desktop/ml/submission1.csv'\n",
    "data2_path='/Users/yezhuoyang/Desktop/ml/submission2.csv'\n",
    "out_path='/Users/yezhuoyang/Desktop/ml/submission.csv'\n",
    "def read(path):\n",
    "    input_list=[]\n",
    "    with open(path,'r') as f:\n",
    "       for line in f.readlines(): \n",
    "            input_list.append(line.strip())\n",
    "            #input_list.append(line)\n",
    "            #tag_list.append(line.split('\\t')[0].strip())\n",
    "            #input_list.append(line.split('\\t')[1].strip())     \n",
    "       input_list=input_list[1:]\n",
    "       input_list=[float(R.split(',')[1]) for R in input_list]\n",
    "    return input_list   "
   ]
  },
  {
   "cell_type": "code",
   "execution_count": 42,
   "metadata": {},
   "outputs": [],
   "source": [
    "def ave(y_list,weight):\n",
    "    L=len(y_list[0])\n",
    "    y_pred=[]\n",
    "    for i in range(0,L):\n",
    "        data=0\n",
    "        for j in range(0,len(y_list)):\n",
    "            data=data+y_list[j][i]*weight[j]\n",
    "        y_pred.append(data)\n",
    "    return y_pred  "
   ]
  },
  {
   "cell_type": "code",
   "execution_count": 43,
   "metadata": {},
   "outputs": [],
   "source": [
    "y1=read(data1_path)\n",
    "y2=read(data2_path)\n",
    "y_pred=ave([y1,y2],[0.5,0.5])"
   ]
  },
  {
   "cell_type": "code",
   "execution_count": 44,
   "metadata": {},
   "outputs": [],
   "source": [
    "import csv\n",
    "def write(y_pred,path):\n",
    "    i=0\n",
    "    y_pred=list(y_pred)\n",
    "    with open(path,'w',newline='') as f:\n",
    "        csv_write=csv.writer(f)\n",
    "        csv_write.writerow(['id','pred'])\n",
    "        for x in y_pred:\n",
    "            csv_write.writerow([i,x])\n",
    "            i=i+1\n",
    "    f.close()   \n",
    "write(y_pred,out_path)    "
   ]
  },
  {
   "cell_type": "code",
   "execution_count": 40,
   "metadata": {},
   "outputs": [
    {
     "ename": "AttributeError",
     "evalue": "'float' object has no attribute 'split'",
     "output_type": "error",
     "traceback": [
      "\u001b[0;31m---------------------------------------------------------------------------\u001b[0m",
      "\u001b[0;31mAttributeError\u001b[0m                            Traceback (most recent call last)",
      "\u001b[0;32m<ipython-input-40-996b3e1da54f>\u001b[0m in \u001b[0;36m<module>\u001b[0;34m\u001b[0m\n\u001b[0;32m----> 1\u001b[0;31m \u001b[0mfloat\u001b[0m\u001b[0;34m(\u001b[0m\u001b[0my1\u001b[0m\u001b[0;34m[\u001b[0m\u001b[0;36m1\u001b[0m\u001b[0;34m]\u001b[0m\u001b[0;34m.\u001b[0m\u001b[0msplit\u001b[0m\u001b[0;34m(\u001b[0m\u001b[0;34m','\u001b[0m\u001b[0;34m)\u001b[0m\u001b[0;34m[\u001b[0m\u001b[0;36m1\u001b[0m\u001b[0;34m]\u001b[0m\u001b[0;34m)\u001b[0m\u001b[0;34m\u001b[0m\u001b[0;34m\u001b[0m\u001b[0m\n\u001b[0m",
      "\u001b[0;31mAttributeError\u001b[0m: 'float' object has no attribute 'split'"
     ]
    }
   ],
   "source": [
    "float(y1[1].split(',')[1])"
   ]
  },
  {
   "cell_type": "code",
   "execution_count": null,
   "metadata": {},
   "outputs": [],
   "source": []
  }
 ],
 "metadata": {
  "kernelspec": {
   "display_name": "Python 3",
   "language": "python",
   "name": "python3"
  },
  "language_info": {
   "codemirror_mode": {
    "name": "ipython",
    "version": 3
   },
   "file_extension": ".py",
   "mimetype": "text/x-python",
   "name": "python",
   "nbconvert_exporter": "python",
   "pygments_lexer": "ipython3",
   "version": "3.7.2"
  }
 },
 "nbformat": 4,
 "nbformat_minor": 2
}
